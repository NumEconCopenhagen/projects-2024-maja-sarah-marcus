{
 "cells": [
  {
   "cell_type": "markdown",
   "metadata": {},
   "source": [
    "**Table of contents**<a id='toc0_'></a>    \n",
    "- 1. [Problem 1: Production economy and CO2 taxation](#toc1_)    \n",
    "- 2. [Problem 2: Career choice model](#toc2_)    \n",
    "- 3. [Problem 3: Barycentric interpolation](#toc3_)    \n",
    "\n",
    "<!-- vscode-jupyter-toc-config\n",
    "\tnumbering=true\n",
    "\tanchor=true\n",
    "\tflat=false\n",
    "\tminLevel=2\n",
    "\tmaxLevel=6\n",
    "\t/vscode-jupyter-toc-config -->\n",
    "<!-- THIS CELL WILL BE REPLACED ON TOC UPDATE. DO NOT WRITE YOUR TEXT IN THIS CELL -->"
   ]
  },
  {
   "cell_type": "code",
   "execution_count": 2,
   "metadata": {},
   "outputs": [],
   "source": [
    "# Write your code here\n",
    "import numpy as np\n",
    "from types import SimpleNamespace"
   ]
  },
  {
   "cell_type": "markdown",
   "metadata": {},
   "source": [
    "## 1. <a id='toc1_'></a>[Problem 1: Production economy and CO2 taxation](#toc0_)"
   ]
  },
  {
   "cell_type": "markdown",
   "metadata": {},
   "source": [
    "Consider a production economy with two firms indexed by $j \\in \\{1,2\\}$. Each produce its own good. They solve\n",
    "\n",
    "$$\n",
    "\\begin{align*}\n",
    "\\max_{y_{j}}\\pi_{j}&=p_{j}y_{j}-w_{j}\\ell_{j}\\\\\\text{s.t.}\\;&y_{j}=A\\ell_{j}^{\\gamma}.\n",
    "\\end{align*}\n",
    "$$\n",
    "\n",
    "Optimal firm behavior is\n",
    "\n",
    "$$\n",
    "\\begin{align*}\n",
    "\\ell_{j}^{\\star}(w,p_{j})&=\\left(\\frac{p_{j}A\\gamma}{w}\\right)^{\\frac{1}{1-\\gamma}} \\\\\n",
    "y_{j}^{\\star}(w,p_{j})&=A\\left(\\ell_{j}^{\\star}(w,p_{j})\\right)^{\\gamma}\n",
    "\\end{align*}\n",
    "$$\n",
    "\n",
    "The implied profits are\n",
    "\n",
    "$$\n",
    "\\pi_{j}^*(w,p_{j})=\\frac{1-\\gamma}{\\gamma}w\\cdot\\left(\\frac{p_{j}A\\gamma}{w}\\right)^{\\frac{1}{1-\\gamma}}\n",
    "$$\n",
    "\n",
    "A single consumer supplies labor, and consumes the goods the firms produce. She also recieves the implied profits of the firm.<br>\n",
    "She solves:\n",
    "\n",
    "$$\n",
    "\\begin{align*}\n",
    "U(p_1,p_2,w,\\tau,T) = \\max_{c_{1},c_{2},\\ell} & \\log(c_{1}^{\\alpha}c_{2}^{1-\\alpha})-\\nu\\frac{\\ell^{1+\\epsilon}}{1+\\epsilon} \\\\\n",
    "\\text{s.t.}\\,\\,\\,&p_{1}c_{1}+(p_{2}+\\tau)c_{2}=w\\ell+T+\\pi_{1}^*(w,p_{1})+\\pi_{2}^*(w,p_{2})\n",
    "\\end{align*}\n",
    "$$\n",
    "\n",
    "where $\\tau$ is a tax and $T$ is lump-sum transfer. <br>\n",
    "For a given $\\ell$, it can be shown that optimal behavior is\n",
    "\n",
    "$$\n",
    "\\begin{align*}\n",
    "c_{1}(\\ell)&=\\alpha\\frac{w\\ell+T+\\pi_{1}^*(w,p_{1})+\\pi_{2}^*(w,p_{2})}{p_{1}} \\\\\n",
    "c_{2}(\\ell)&=(1-\\alpha)\\frac{w\\ell+T+\\pi_{1}^*(w,p_{1})+\\pi_{2}^*(w,p_{2})}{p_{2}+\\tau} \\\\\n",
    "\\end{align*}\n",
    "$$\n",
    "Such that optimal behavior is:\n",
    "$$\n",
    "\\ell^* = \\underset{\\ell}{\\arg\\max} \\log(\\left(c_{1}(\\ell)\\right)^{\\alpha}\\cdot \\left(c_{2}(\\ell)\\right)^{1-\\alpha})-\\nu\\frac{\\ell^{1+\\epsilon}}{1+\\epsilon} \n",
    "$$\n",
    "With optimal consumption:\n",
    "$$\n",
    "\\begin{align*}\n",
    "c_1^*=c_{1}(\\ell^*) \\\\\n",
    "c_2^*=c_{2}(\\ell^*)\\\\\n",
    "\\end{align*}\n",
    "$$\n",
    "\n",
    "\n",
    "The government chooses $\\tau$ and balances its budget so $T=\\tau c_2^*$. We initially set $\\tau,T=0$.\n",
    "\n",
    "Market clearing requires:\n",
    "\n",
    "1. Labor market: $\\ell^* = \\ell_1^* + \\ell_2^*$\n",
    "1. Good market 1: $c_1^* = y_1^*$\n",
    "1. Good market 2: $c_2^* = y_2^*$\n"
   ]
  },
  {
   "cell_type": "markdown",
   "metadata": {},
   "source": [
    "**Question 1:** Check market clearing conditions for $p_1$ in `linspace(0.1,2.0,10)` and $p_2$ in `linspace(0.1,2.0,10)`. We choose $w=1$ as numeraire."
   ]
  },
  {
   "cell_type": "code",
   "execution_count": 17,
   "metadata": {},
   "outputs": [],
   "source": [
    "import numpy as np\n",
    "import matplotlib.pyplot as plt\n",
    "from types import SimpleNamespace"
   ]
  },
  {
   "cell_type": "code",
   "execution_count": 18,
   "metadata": {},
   "outputs": [
    {
     "name": "stdout",
     "output_type": "stream",
     "text": [
      "No combination of prices in the given range leads to all markets clearing.\n"
     ]
    }
   ],
   "source": [
    "par = SimpleNamespace()\n",
    "\n",
    "# firms\n",
    "par.A = 1.0\n",
    "par.gamma = 0.5\n",
    "\n",
    "\n",
    "# households\n",
    "par.alpha = 0.3\n",
    "par.nu = 1.0\n",
    "par.epsilon = 2.0\n",
    "\n",
    "\n",
    "# government\n",
    "par.tau = 0.0\n",
    "par.T = 0.0\n",
    "\n",
    "\n",
    "# Question 3\n",
    "par.kappa = 0.1\n",
    "# Function definitions\n",
    "def labor_supply(w, par):\n",
    "   return (w / (par.nu * (1 + par.epsilon)))**(1 / par.epsilon)\n",
    "\n",
    "\n",
    "def optimal_labor_demand(w, p, par):\n",
    "   return (p * par.A**par.gamma / w)**(1 / (1 - par.gamma))\n",
    "\n",
    "\n",
    "def production(y_l, par):\n",
    "   return par.A * y_l**par.gamma\n",
    "\n",
    "\n",
    "def profit(w, p, l_star, par):\n",
    "   return p * production(l_star, par) - w * l_star\n",
    "\n",
    "\n",
    "def consumption_budget(w, l, par, profits):\n",
    "   return w * l + par.T + profits\n",
    "\n",
    "\n",
    "def consumption_choices(c_budget, p1, p2, par):\n",
    "   c1 = par.alpha * c_budget / p1\n",
    "   c2 = (1 - par.alpha) * c_budget / (p2 + par.tau)\n",
    "   return c1, c2\n",
    "\n",
    "\n",
    "# Market clearing condition checks\n",
    "prices = np.linspace(0.1, 2.0, 10)\n",
    "w = 1  # Wage rate (numeraire)\n",
    "clearing_prices = []\n",
    "\n",
    "\n",
    "for p1 in prices:\n",
    "   for p2 in prices:\n",
    "       # Calculate labor supply and demands\n",
    "       l_supply = labor_supply(w, par)\n",
    "       l_demand1 = optimal_labor_demand(w, p1, par)\n",
    "       l_demand2 = optimal_labor_demand(w, p2, par)\n",
    "\n",
    "\n",
    "       # Calculate production outputs\n",
    "       y1 = production(l_demand1, par)\n",
    "       y2 = production(l_demand2, par)\n",
    "\n",
    "\n",
    "       # Calculate profits\n",
    "       pi1 = profit(w, p1, l_demand1, par)\n",
    "       pi2 = profit(w, p2, l_demand2, par)\n",
    "       total_profits = pi1 + pi2\n",
    "\n",
    "\n",
    "       # Consumer's budget and consumption choices\n",
    "       consumer_budget = consumption_budget(w, l_supply, par, total_profits)\n",
    "       c1, c2 = consumption_choices(consumer_budget, p1, p2, par)\n",
    "\n",
    "\n",
    "       # Check for market clearing in both goods and labor market\n",
    "       labor_market_clears = np.isclose(l_supply, l_demand1 + l_demand2)\n",
    "       good_market_1_clears = np.isclose(c1, y1)\n",
    "       good_market_2_clears = np.isclose(c2, y2)\n",
    "\n",
    "\n",
    "       if labor_market_clears and good_market_1_clears and good_market_2_clears:\n",
    "           clearing_prices.append((p1, p2))\n",
    "\n",
    "\n",
    "# Output the result\n",
    "if clearing_prices:\n",
    "   for p1, p2 in clearing_prices:\n",
    "       print(f\"Markets clear at prices p1 = {p1:.2f}, p2 = {p2:.2f}.\")\n",
    "else:\n",
    "   print(\"No combination of prices in the given range leads to all markets clearing.\")"
   ]
  },
  {
   "cell_type": "markdown",
   "metadata": {},
   "source": [
    "**Question 2:** Find the equilibrium prices $p_1$ and $p_2$.<br>\n",
    "*Hint: you can use Walras' law to only check 2 of the market clearings*"
   ]
  },
  {
   "cell_type": "code",
   "execution_count": null,
   "metadata": {},
   "outputs": [],
   "source": [
    "# write your answer here"
   ]
  },
  {
   "cell_type": "markdown",
   "metadata": {},
   "source": [
    "Assume the government care about the social welfare function:\n",
    "\n",
    "$$\n",
    "SWF = U - \\kappa y_2^*\n",
    "$$"
   ]
  },
  {
   "cell_type": "markdown",
   "metadata": {},
   "source": [
    "Here $\\kappa$ measures the social cost of carbon emitted by the production of $y_2$ in equilibrium."
   ]
  },
  {
   "cell_type": "markdown",
   "metadata": {},
   "source": [
    "**Question 3:** What values of $\\tau$ and (implied) $T$ should the government choose to maximize $SWF$?"
   ]
  },
  {
   "cell_type": "code",
   "execution_count": 16,
   "metadata": {},
   "outputs": [
    {
     "name": "stdout",
     "output_type": "stream",
     "text": [
      "Optimal tau: 0.0000\n",
      "Optimal T: 103163.7243\n"
     ]
    }
   ],
   "source": [
    "# write "
   ]
  },
  {
   "cell_type": "markdown",
   "metadata": {},
   "source": [
    "## 2. <a id='toc2_'></a>[Problem 2: Career choice model](#toc0_)"
   ]
  },
  {
   "cell_type": "markdown",
   "metadata": {},
   "source": [
    "Consider a graduate $i$ making a choice between entering $J$ different career tracks. <br>\n",
    "Entering career $j$ yields utility $u^k_{ij}$. This value is unknown to the graduate ex ante, but will ex post be: <br>\n",
    "$$\n",
    "    u_{i,j}^k = v_{j} + \\epsilon_{i,j}^k\n",
    "$$\n",
    "\n",
    "They know that $\\epsilon^k_{i,j}\\sim \\mathcal{N}(0,\\sigma^2)$, but they do not observe $\\epsilon^k_{i,j}$ before making their career choice. <br>"
   ]
  },
  {
   "cell_type": "markdown",
   "metadata": {},
   "source": [
    "Consider the concrete case of $J=3$ with:\n",
    "$$\n",
    "\\begin{align*}\n",
    "    v_{1} &= 1 \\\\\n",
    "    v_{2} &= 2 \\\\\n",
    "    v_{3} &= 3\n",
    "\\end{align*}\n",
    "$$"
   ]
  },
  {
   "cell_type": "markdown",
   "metadata": {},
   "source": [
    "If the graduates know the values of $v_j$ and the distribution of $\\epsilon_{i,j}^k$, they can calculate the expected utility of each career track using simulation: <br>\n",
    "$$\n",
    "    \\mathbb{E}\\left[ u^k_{i,j}\\vert v_j \\right] \\approx v_j + \\frac{1}{K}\\sum_{k=1}^K \\epsilon_{i,j}^k\n",
    "$$"
   ]
  },
  {
   "cell_type": "code",
   "execution_count": null,
   "metadata": {},
   "outputs": [],
   "source": [
    "par = SimpleNamespace()\n",
    "par.J = 3\n",
    "par.N = 10\n",
    "par.K = 10000\n",
    "\n",
    "par.F = np.arange(1,par.N+1)\n",
    "par.sigma = 2\n",
    "\n",
    "par.v = np.array([1,2,3])\n",
    "par.c = 1"
   ]
  },
  {
   "cell_type": "markdown",
   "metadata": {},
   "source": [
    "**Question 1:** Simulate and calculate expected utility and the average realised utility for $K=10000$ draws, for each career choice $j$.\n"
   ]
  },
  {
   "cell_type": "code",
   "execution_count": null,
   "metadata": {},
   "outputs": [],
   "source": [
    "# write your answer here"
   ]
  },
  {
   "cell_type": "markdown",
   "metadata": {},
   "source": [
    "Now consider a new scenario: Imagine that the graduate does not know $v_j$. The *only* prior information they have on the value of each job, comes from their $F_{i}$ friends that work in each career $j$. After talking with them, they know the average utility of their friends (which includes their friends' noise term), giving them the prior expecation: <br>\n",
    "$$\n",
    "\\tilde{u}^k_{i,j}\\left( F_{i}\\right) = \\frac{1}{F_{i}}\\sum_{f=1}^{F_{i}} \\left(v_{j} + \\epsilon^k_{f,j}\\right), \\; \\epsilon^k_{f,j}\\sim \\mathcal{N}(0,\\sigma^2)\n",
    "$$\n",
    "For ease of notation consider that each graduate have $F_{i}=i$ friends in each career. <br>"
   ]
  },
  {
   "cell_type": "markdown",
   "metadata": {},
   "source": [
    "For $K$ times do the following: <br>\n",
    "1. For each person $i$ draw $J\\cdot F_i$ values of $\\epsilon_{f,j}^{k}$, and calculate the prior expected utility of each career track, $\\tilde{u}^k_{i,j}\\left( F_{i}\\right)$. <br>\n",
    "Also draw their own $J$ noise terms, $\\epsilon_{i,j}^k$\n",
    "1. Each person $i$ chooses the career track with the highest expected utility: $$j_i^{k*}= \\arg\\max_{j\\in{1,2\\dots,J}}\\left\\{ \\tilde{u}^k_{i,j}\\left( F_{i}\\right)\\right\\} $$\n",
    "1. Store the chosen careers: $j_i^{k*}$, the prior expectation of the value of their chosen career: $\\tilde{u}^k_{i,j=j_i^{k*}}\\left( F_{i}\\right)$, and the realized value of their chosen career track: $u^k_{i,j=j_i^{k*}}=v_{j=j_i^{k*}}+\\epsilon_{i,j=j_i^{k*}}^k$."
   ]
  },
  {
   "cell_type": "markdown",
   "metadata": {},
   "source": [
    "Chosen values will be: <br>\n",
    "$i\\in\\left\\{1,2\\dots,N\\right\\}, N=10$ <br>\n",
    "$F_i = i$<br>\n",
    "So there are 10 graduates. The first has 1 friend in each career, the second has 2 friends, ... the tenth has 10 friends."
   ]
  },
  {
   "cell_type": "markdown",
   "metadata": {},
   "source": [
    "**Question 2:** Simulate and visualize: For each type of graduate, $i$, the share of graduates choosing each career, the average subjective expected utility of the graduates, and the average ex post realized utility given their choice. <br>\n",
    "That is, calculate and visualize: <br>\n",
    "$$\n",
    "\\begin{align*}\n",
    "    \\frac{1}{K} \\sum_{k=1}^{K} \\mathbb{I}\\left\\{ j=j_i^{k*} \\right\\}  \\;\\forall j\\in\\left\\{1,2,\\dots,J\\right\\}\n",
    "\\end{align*}\n",
    "$$\n",
    "$$\n",
    "\\begin{align*}\n",
    "    \\frac{1}{K} \\sum_{k=1}^{K} \\tilde{u}^k_{ij=j_i^{k*}}\\left( F_{i}\\right)\n",
    "\\end{align*}\n",
    "$$\n",
    "And \n",
    "$$\n",
    "\\begin{align*}\n",
    "    \\frac{1}{K} \\sum_{k=1}^{K} u^k_{ij=j_i^{k*}} \n",
    "\\end{align*}\n",
    "$$\n",
    "For each graduate $i$."
   ]
  },
  {
   "cell_type": "code",
   "execution_count": null,
   "metadata": {},
   "outputs": [],
   "source": [
    "# Write your answer here "
   ]
  },
  {
   "cell_type": "markdown",
   "metadata": {},
   "source": [
    "After a year of working in their career, the graduates learn $u^k_{ij}$ for their chosen job $j_i^{k*}$ perfectly. <br>\n",
    "The can switch to one of the two remaining careers, for which they have the same prior as before, but it will now include a switching cost of $c$ which is known.\n",
    "Their new priors can be written as: \n",
    "$$\n",
    "\\tilde{u}^{k,2}_{ij}\\left( F_{i}\\right) = \\begin{cases}\n",
    "            \\tilde{u}^k_{ij}\\left( F_{i}\\right)-c & \\text{if } j \\neq j_i^{k*} \\\\\n",
    "            u_{ij=j_i^{k*}} & \\text{if } j = j_i^{k*}\n",
    "        \\end{cases}\n",
    "$$"
   ]
  },
  {
   "cell_type": "markdown",
   "metadata": {},
   "source": [
    "We will set $c=1$."
   ]
  },
  {
   "cell_type": "markdown",
   "metadata": {},
   "source": [
    "Their realized utility will be: <br>\n",
    "$$\n",
    "u^{k,2}_{ij}= \\begin{cases}\n",
    "            u_{ij}^k -c & \\text{if } j \\neq j_i^{k*} \\\\\n",
    "            u_{ij=j_i^{k*}} & \\text{if } j = j_i^{k*}\n",
    "        \\end{cases}\n",
    "$$"
   ]
  },
  {
   "cell_type": "markdown",
   "metadata": {},
   "source": [
    "**Question 3:** Following the same approach as in question 2, find the new optimal career choice for each $i$, $k$. Then for each $i$, calculate the average subjective expected utility from their new optimal career choice, and the ex post realized utility of that career. Also, for each $i$, calculate the share of graduates that chooses to switch careers, conditional on which career they chose in the first year. <br>"
   ]
  },
  {
   "cell_type": "code",
   "execution_count": null,
   "metadata": {},
   "outputs": [],
   "source": [
    "# write your answer here"
   ]
  },
  {
   "cell_type": "markdown",
   "metadata": {},
   "source": [
    "## 3. <a id='toc3_'></a>[Problem 3: Barycentric interpolation](#toc0_)"
   ]
  },
  {
   "cell_type": "markdown",
   "metadata": {},
   "source": [
    "**Problem:** We have a set of random points in the unit square,\n",
    "\n",
    "$$\n",
    "\\mathcal{X} = \\{(x_1,x_2)\\,|\\,x_1\\sim\\mathcal{U}(0,1),x_2\\sim\\mathcal{U}(0,1)\\}.\n",
    "$$\n",
    "\n",
    "For these points, we know the value of some function $f(x_1,x_2)$,\n",
    "\n",
    "$$\n",
    "\\mathcal{F} = \\{f(x_1,x_2) \\,|\\, (x_1,x_2) \\in \\mathcal{X}\\}.\n",
    "$$\n",
    "\n",
    "Now we want to approximate the value $f(y_1,y_2)$ for some  $y=(y_1,y_2)$, where $y_1\\sim\\mathcal{U}(0,1)$ and $y_2\\sim\\mathcal{U}(0,1)$.\n",
    "\n",
    "**Building block I**\n",
    "\n",
    "For an arbitrary triangle $ABC$ and a point $y$, define the so-called barycentric coordinates as:\n",
    "\n",
    "$$\n",
    "\\begin{align*}\n",
    "  r^{ABC}_1 &= \\frac{(B_2-C_2)(y_1-C_1) + (C_1-B_1)(y_2-C_2)}{(B_2-C_2)(A_1-C_1) + (C_1-B_1)(A_2-C_2)} \\\\\n",
    "  r^{ABC}_2 &= \\frac{(C_2-A_2)(y_1-C_1) + (A_1-C_1)(y_2-C_2)}{(B_2-C_2)(A_1-C_1) + (C_1-B_1)(A_2-C_2)} \\\\\n",
    "  r^{ABC}_3 &= 1 - r_1 - r_2.\n",
    "\\end{align*}\n",
    "$$\n",
    "\n",
    "If $r^{ABC}_1 \\in [0,1]$, $r^{ABC}_2 \\in [0,1]$, and $r^{ABC}_3 \\in [0,1]$, then the point is inside the triangle.\n",
    "\n",
    "We always have $y = r^{ABC}_1 A + r^{ABC}_2 B + r^{ABC}_3 C$.\n",
    "\n",
    "**Building block II**\n",
    "\n",
    "Define the following points:\n",
    "\n",
    "$$\n",
    "\\begin{align*}\n",
    "A&=\\arg\\min_{(x_{1},x_{2})\\in\\mathcal{X}}\\sqrt{\\left(x_{1}-y_{1}\\right)^{2}+\\left(x_{2}-y_{2}\\right)^{2}}\\text{ s.t. }x_{1}>y_{1}\\text{ and }x_{2}>y_{2}\\\\\n",
    "B&=\\arg\\min_{(x_{1},x_{2})\\in\\mathcal{X}}\\sqrt{\\left(x_{1}-y_{1}\\right)^{2}+\\left(x_{2}-y_{2}\\right)^{2}}\\text{ s.t. }x_{1}>y_{1}\\text{ and }x_{2}<y_{2}\\\\\n",
    "C&=\\arg\\min_{(x_{1},x_{2})\\in\\mathcal{X}}\\sqrt{\\left(x_{1}-y_{1}\\right)^{2}+\\left(x_{2}-y_{2}\\right)^{2}}\\text{ s.t. }x_{1}<y_{1}\\text{ and }x_{2}<y_{2}\\\\\n",
    "D&=\\arg\\min_{(x_{1},x_{2})\\in\\mathcal{X}}\\sqrt{\\left(x_{1}-y_{1}\\right)^{2}+\\left(x_{2}-y_{2}\\right)^{2}}\\text{ s.t. }x_{1}<y_{1}\\text{ and }x_{2}>y_{2}.\n",
    "\\end{align*}\n",
    "$$\n",
    "\n",
    "**Algorithm:**\n",
    "\n",
    "1. Compute $A$, $B$, $C$, and $D$. If not possible return `NaN`.\n",
    "1. If $y$ is inside the triangle $ABC$ return $r^{ABC}_1 f(A) + r^{ABC}_2 f(B) + r^{ABC}_3 f(C)$.\n",
    "1. If $y$ is inside the triangle $CDA$ return $r^{CDA}_1 f(C) + r^{CDA}_2 f(D) + r^{CDA}_3 f(A)$.\n",
    "1. Return `NaN`.\n",
    "\n"
   ]
  },
  {
   "cell_type": "markdown",
   "metadata": {},
   "source": [
    "**Sample:**"
   ]
  },
  {
   "cell_type": "code",
   "execution_count": 2,
   "metadata": {},
   "outputs": [],
   "source": [
    "import numpy as np\n",
    "import matplotlib.pyplot as plt\n",
    "rng = np.random.default_rng(2024)\n",
    "\n",
    "X = rng.uniform(size=(50,2))\n",
    "y = rng.uniform(size=(2,))\n"
   ]
  },
  {
   "cell_type": "markdown",
   "metadata": {},
   "source": [
    "**Questions 1:** Find $A$, $B$, $C$ and $D$. Illustrate these together with $X$, $y$ and the triangles $ABC$ and $CDA$."
   ]
  },
  {
   "cell_type": "markdown",
   "metadata": {},
   "source": [
    "# Problem 3: Barycentric Interpolation\n",
    "\n",
    "We have a set of random points in the unit square and know the value of some function $(f(x_1, x_2))$ at these points. We want to approximate the value $(f(y_1, y_2))$ for some point $(y = (y_1, y_2))$, where $(y_1)$ and $(y_2)$ are in the unit square.\n",
    "\n",
    "**Steps to Solve:**\n",
    "\n",
    "1. **Define the Barycentric Coordinates:**\n",
    "   For an arbitrary triangle ( ABC ) and a point ( y ), the barycentric coordinates $( r_{ABC1}, r_{ABC2}, r_{ABC3} )$ are defined as follows:\n",
    "\n",
    "   $$ r_{ABC1} = \\frac{(B_2 - C_2)(y_1 - C_1) + (C_1 - B_1)(y_2 - C_2)}{(B_2 - C_2)(A_1 - C_1) + (C_1 - B_1)(A_2 - C_2)} $$\n",
    "\n",
    "   $$ r_{ABC2} = \\frac{(C_2 - A_2)(y_1 - C_1) + (A_1 - C_1)(y_2 - C_2)}{(B_2 - C_2)(A_1 - C_1) + (C_1 - B_1)(A_2 - C_2)} $$\n",
    "\n",
    "   $$ r_{ABC3} = 1 - r_{ABC1} - r_{ABC2} $$\n",
    "\n",
    "   If $( r_{ABC1}, r_{ABC2}, r_{ABC3} )$ are all between 0 and 1, then the point \\( y \\) is inside the triangle \\( ABC \\).\n",
    "\n",
    "2. **Identify Points for Interpolation:**\n",
    "   We need to define the points ( A, B, C, D ) based on the proximity to ( y ) with specific conditions:\n",
    "   - ( A ): The closest point to ( y ) such that $( x_1 > y_1 )$ and $( x_2 > y_2 )$\n",
    "   - ( B ): The closest point to ( y ) such that $( x_1 > y_1 )$ and $( x_2 < y_2 )$\n",
    "   - ( C ): The closest point to ( y ) such that $( x_1 < y_1 )$ and $( x_2 < y_2 )$\n",
    "   - ( D ): The closest point to ( y ) such that $( x_1 < y_1 )$ and $( x_2 > y_2 )$\n",
    "\n"
   ]
  },
  {
   "cell_type": "code",
   "execution_count": 7,
   "metadata": {},
   "outputs": [
    {
     "name": "stdout",
     "output_type": "stream",
     "text": [
      "Coordinates of A: [0.26071605 0.43635845]\n",
      "Coordinates of B: [0.21315735 0.274245  ]\n",
      "Coordinates of C: [0.10056103 0.27951775]\n",
      "Coordinates of D: [0.20634391 0.44272557]\n"
     ]
    },
    {
     "data": {
      "image/png": "[encoded data removed]",
      "text/plain": [
       "<Figure size 1000x800 with 1 Axes>"
      ]
     },
     "metadata": {},
     "output_type": "display_data"
    }
   ],
   "source": [
    "import numpy as np\n",
    "import matplotlib.pyplot as plt\n",
    "\n",
    "# Sample data generation\n",
    "rng = np.random.default_rng(2024)\n",
    "X = rng.uniform(size=(50, 2))\n",
    "y = rng.uniform(size=(2,))\n",
    "\n",
    "# Function definition\n",
    "f = lambda x: x[0] * x[1]\n",
    "F = np.array([f(x) for x in X])\n",
    "\n",
    "# Define points A, B, C, D based on proximity to y\n",
    "def find_points(X, y):\n",
    "    A = min(X, key=lambda x: np.linalg.norm(x - y) if x[0] > y[0] and x[1] > y[1] else float('inf'))\n",
    "    B = min(X, key=lambda x: np.linalg.norm(x - y) if x[0] > y[0] and x[1] < y[1] else float('inf'))\n",
    "    C = min(X, key=lambda x: np.linalg.norm(x - y) if x[0] < y[0] and x[1] < y[1] else float('inf'))\n",
    "    D = min(X, key=lambda x: np.linalg.norm(x - y) if x[0] < y[0] and x[1] > y[1] else float('inf'))\n",
    "    return A, B, C, D\n",
    "\n",
    "# Compute barycentric coordinates\n",
    "def barycentric_coordinates(y, A, B, C):\n",
    "    r1 = ((B[1] - C[1]) * (y[0] - C[0]) + (C[0] - B[0]) * (y[1] - C[1])) / ((B[1] - C[1]) * (A[0] - C[0]) + (C[0] - B[0]) * (A[1] - C[1]))\n",
    "    r2 = ((C[1] - A[1]) * (y[0] - C[0]) + (A[0] - C[0]) * (y[1] - C[1])) / ((B[1] - C[1]) * (A[0] - C[0]) + (C[0] - B[0]) * (A[1] - C[1]))\n",
    "    r3 = 1 - r1 - r2\n",
    "    return r1, r2, r3\n",
    "\n",
    "# Determine which triangle y is in and interpolate\n",
    "def interpolate(y, A, B, C, D):\n",
    "    rABC1, rABC2, rABC3 = barycentric_coordinates(y, A, B, C)\n",
    "    if 0 <= rABC1 <= 1 and 0 <= rABC2 <= 1 and 0 <= rABC3 <= 1:\n",
    "        return rABC1 * f(A) + rABC2 * f(B) + rABC3 * f(C)\n",
    "    \n",
    "    rCDA1, rCDA2, rCDA3 = barycentric_coordinates(y, C, D, A)\n",
    "    if 0 <= rCDA1 <= 1 and 0 <= rCDA2 <= 1 and 0 <= rCDA3 <= 1:\n",
    "        return rCDA1 * f(C) + rCDA2 * f(D) + rCDA3 * f(A)\n",
    "    \n",
    "    return float('nan')\n",
    "\n",
    "# Plot points and the triangles\n",
    "def plot_interpolation(X, y, A, B, C, D):\n",
    "    plt.figure(figsize=(10, 8))\n",
    "    plt.scatter(X[:, 0], X[:, 1], color='blue', label='X (random points)')\n",
    "    plt.scatter([y[0]], [y[1]], color='red', label='y (random point)')\n",
    "    plt.scatter([A[0]], [A[1]], color='green', label='A')\n",
    "    plt.scatter([B[0]], [B[1]], color='purple', label='B')\n",
    "    plt.scatter([C[0]], [C[1]], color='magenta', label='C')\n",
    "    plt.scatter([D[0]], [D[1]], color='brown', label='D')\n",
    "    \n",
    "    plt.fill([A[0], B[0], C[0], A[0]], [A[1], B[1], C[1], A[1]], 'green', alpha=0.3, label='Triangle ABC')\n",
    "    plt.fill([C[0], D[0], A[0], C[0]], [C[1], D[1], A[1], C[1]], 'purple', alpha=0.3, label='Triangle CDA')\n",
    "    \n",
    "    plt.xlabel('$x_1$')\n",
    "    plt.ylabel('$x_2$')\n",
    "    plt.legend()\n",
    "    plt.title('Allocations for $X$, $y$ and the triangles $ABC$ and $CDA$')\n",
    "    plt.grid(True)\n",
    "    plt.show()\n",
    "\n",
    "# Find points and interpolate\n",
    "A, B, C, D = find_points(X, y)\n",
    "interpolated_value = interpolate(y, A, B, C, D)\n",
    "true_value = f(y)\n",
    "\n",
    "print(f\"Coordinates of A: {A}\")\n",
    "print(f\"Coordinates of B: {B}\")\n",
    "print(f\"Coordinates of C: {C}\")\n",
    "print(f\"Coordinates of D: {D}\")\n",
    "\n",
    "# Plot the results\n",
    "plot_interpolation(X, y, A, B, C, D)\n"
   ]
  },
  {
   "cell_type": "markdown",
   "metadata": {},
   "source": [
    "**Conclusion**\n",
    "\n",
    "In this exercise, we successfully applied barycentric interpolation to approximate the value of a function at a given point within the unit square. We generated random points and identified the nearest points \\( A \\), \\( B \\), \\( C \\), and \\( D \\) that form triangles around our target point \\( y \\). \n",
    "\n",
    "The coordinates for the points are as follows:\n",
    "- Coordinates of $( A )$: $([0.26071605, 0.43635845])$\n",
    "- Coordinates of $( B )$: $([0.21315735, 0.272445])$\n",
    "- Coordinates of $( C )$: $([0.10056103, 0.27951775])$\n",
    "- Coordinates of $( D )$: $([0.20634391, 0.44272557])$\n",
    "\n"
   ]
  },
  {
   "cell_type": "markdown",
   "metadata": {},
   "source": [
    "**Question 2:** Compute the barycentric coordinates of the point $y$ with respect to the triangles $ABC$ and $CDA$. Which triangle is $y$ located inside?"
   ]
  },
  {
   "cell_type": "markdown",
   "metadata": {},
   "source": [
    "We continue our exploration of barycentric interpolation. Our goal is to compute the barycentric coordinates of a given point $(y)$ with respect to the triangles $(ABC)$ and $(CDA)$. By doing so, we can determine which of these triangles $(y)$ lies within. This step is crucial for the interpolation process, as it allows us to accurately estimate the function value at $(y)$ using the vertices of the appropriate triangle.\n",
    "\n",
    "Steps to Solve Question 2:\n",
    "\n",
    "1. **Compute Barycentric Coordinates:**\n",
    "   - We first calculate the barycentric coordinates of the point $(y)$ with respect to the triangle $(ABC)$\n",
    "   - Next, we calculate the barycentric coordinates of the point $(y)$ with respect to the triangle $(CDA)$\n",
    "\n",
    "2. **Determine Triangle Containment:**\n",
    "   - Using the computed barycentric coordinates, we determine which triangle $(y)$ is located inside. \n",
    "\n",
    "3. **Implementation:**\n",
    "   - We define a function to calculate the barycentric coordinates for any point given the vertices of a triangle.\n",
    "   - We then use this function to compute the barycentric coordinates of $(y)$ with respect to both triangles.\n",
    "   - Finally, we determine which triangle contains $(y)$ based on the computed coordinates.\n",
    "\n",
    "By following these steps, we can accurately identify the triangle that contains the point $(y)$, which is essential for performing precise barycentric interpolation.\n"
   ]
  },
  {
   "cell_type": "code",
   "execution_count": 8,
   "metadata": {},
   "outputs": [
    {
     "name": "stdout",
     "output_type": "stream",
     "text": [
      "Barycentric coordinates with respect to ABC: r1 = 0.6286, r2 = 0.0691, r3 = 0.3023\n",
      "Barycentric coordinates with respect to CDA: r1 = 0.3683, r2 = -0.1339, r3 = 0.7657\n",
      "Point y is located inside triangle: ABC\n"
     ]
    }
   ],
   "source": [
    "import numpy as np\n",
    "import matplotlib.pyplot as plt\n",
    "\n",
    "# Sample data generation\n",
    "rng = np.random.default_rng(2024)\n",
    "X = rng.uniform(size=(50, 2))\n",
    "y = rng.uniform(size=(2,))\n",
    "\n",
    "# Function definition\n",
    "f = lambda x: x[0] * x[1]\n",
    "F = np.array([f(x) for x in X])\n",
    "\n",
    "# Define points A, B, C, D based on proximity to y\n",
    "def find_points(X, y):\n",
    "    A = min(X, key=lambda x: np.linalg.norm(x - y) if x[0] > y[0] and x[1] > y[1] else float('inf'))\n",
    "    B = min(X, key=lambda x: np.linalg.norm(x - y) if x[0] > y[0] and x[1] < y[1] else float('inf'))\n",
    "    C = min(X, key=lambda x: np.linalg.norm(x - y) if x[0] < y[0] and x[1] < y[1] else float('inf'))\n",
    "    D = min(X, key=lambda x: np.linalg.norm(x - y) if x[0] < y[0] and x[1] > y[1] else float('inf'))\n",
    "    return A, B, C, D\n",
    "\n",
    "# Compute barycentric coordinates\n",
    "def barycentric_coordinates(y, A, B, C):\n",
    "    r1 = ((B[1] - C[1]) * (y[0] - C[0]) + (C[0] - B[0]) * (y[1] - C[1])) / ((B[1] - C[1]) * (A[0] - C[0]) + (C[0] - B[0]) * (A[1] - C[1]))\n",
    "    r2 = ((C[1] - A[1]) * (y[0] - C[0]) + (A[0] - C[0]) * (y[1] - C[1])) / ((B[1] - C[1]) * (A[0] - C[0]) + (C[0] - B[0]) * (A[1] - C[1]))\n",
    "    r3 = 1 - r1 - r2\n",
    "    return r1, r2, r3\n",
    "\n",
    "# Find points and interpolate\n",
    "A, B, C, D = find_points(X, y)\n",
    "\n",
    "# Compute barycentric coordinates\n",
    "rABC1, rABC2, rABC3 = barycentric_coordinates(y, A, B, C)\n",
    "rCDA1, rCDA2, rCDA3 = barycentric_coordinates(y, C, D, A)\n",
    "\n",
    "# Determine which triangle y is in\n",
    "def which_triangle(rABC1, rABC2, rABC3, rCDA1, rCDA2, rCDA3):\n",
    "    if 0 <= rABC1 <= 1 and 0 <= rABC2 <= 1 and 0 <= rABC3 <= 1:\n",
    "        return \"ABC\"\n",
    "    elif 0 <= rCDA1 <= 1 and 0 <= rCDA2 <= 1 and 0 <= rCDA3 <= 1:\n",
    "        return \"CDA\"\n",
    "    else:\n",
    "        return \"None\"\n",
    "\n",
    "triangle = which_triangle(rABC1, rABC2, rABC3, rCDA1, rCDA2, rCDA3)\n",
    "\n",
    "# Print the results\n",
    "print(f\"Barycentric coordinates with respect to ABC: r1 = {rABC1:.4f}, r2 = {rABC2:.4f}, r3 = {rABC3:.4f}\")\n",
    "print(f\"Barycentric coordinates with respect to CDA: r1 = {rCDA1:.4f}, r2 = {rCDA2:.4f}, r3 = {rCDA3:.4f}\")\n",
    "print(f\"Point y is located inside triangle: {triangle}\")\n",
    "\n",
    "\n"
   ]
  },
  {
   "cell_type": "markdown",
   "metadata": {},
   "source": [
    "Now consider the function:\n",
    "$$\n",
    "f(x_1,x_2) = x_1 \\cdot x_2\n",
    "$$"
   ]
  },
  {
   "cell_type": "code",
   "execution_count": 10,
   "metadata": {},
   "outputs": [],
   "source": [
    "f = lambda x: x[0]*x[1]\n",
    "F = np.array([f(x) for x in X])"
   ]
  },
  {
   "cell_type": "markdown",
   "metadata": {},
   "source": [
    "**Question 3:** Compute the approximation of $f(y)$ using the full algorithm. Compare with the true value."
   ]
  },
  {
   "cell_type": "markdown",
   "metadata": {},
   "source": [
    "We start by defining the function to compute the value of $f(x)$. We then use the barycentric coordinates to compute the interpolation for the function $(f)$ at the point $(y)$. Then we compare this with the true value of the function at $(y)$.\n"
   ]
  },
  {
   "cell_type": "code",
   "execution_count": 16,
   "metadata": {},
   "outputs": [
    {
     "name": "stdout",
     "output_type": "stream",
     "text": [
      "Interpolated value: 0.0841\n",
      "True value: 0.0790\n"
     ]
    }
   ],
   "source": [
    "import numpy as np\n",
    "\n",
    "# Sample data generation\n",
    "rng = np.random.default_rng(2024)\n",
    "X = rng.uniform(size=(50, 2))\n",
    "y = rng.uniform(size=(2,))\n",
    "\n",
    "# Function definition\n",
    "f = lambda x: x[0] * x[1]\n",
    "\n",
    "# Define points A, B, C, D based on proximity to y\n",
    "def find_points(X, y):\n",
    "    A = min(X, key=lambda x: np.linalg.norm(x - y) if x[0] > y[0] and x[1] > y[1] else float('inf'))\n",
    "    B = min(X, key=lambda x: np.linalg.norm(x - y) if x[0] > y[0] and x[1] < y[1] else float('inf'))\n",
    "    C = min(X, key=lambda x: np.linalg.norm(x - y) if x[0] < y[0] and x[1] < y[1] else float('inf'))\n",
    "    D = min(X, key=lambda x: np.linalg.norm(x - y) if x[0] < y[0] and x[1] > y[1] else float('inf'))\n",
    "    return A, B, C, D\n",
    "\n",
    "# Compute barycentric coordinates\n",
    "def barycentric_coordinates(y, A, B, C):\n",
    "    denominator = (B[1] - C[1]) * (A[0] - C[0]) + (C[0] - B[0]) * (A[1] - C[1])\n",
    "    r1 = ((B[1] - C[1]) * (y[0] - C[0]) + (C[0] - B[0]) * (y[1] - C[1])) / denominator\n",
    "    r2 = ((C[1] - A[1]) * (y[0] - C[0]) + (A[0] - C[0]) * (y[1] - C[1])) / denominator\n",
    "    r3 = 1 - r1 - r2\n",
    "    return r1, r2, r3\n",
    "\n",
    "# Determine which triangle y is in and interpolate\n",
    "def interpolate(y, A, B, C, D):\n",
    "    rABC1, rABC2, rABC3 = barycentric_coordinates(y, A, B, C)\n",
    "    if 0 <= rABC1 <= 1 and 0 <= rABC2 <= 1 and 0 <= rABC3 <= 1:\n",
    "        return rABC1 * f(A) + rABC2 * f(B) + rABC3 * f(C)\n",
    "    \n",
    "    rCDA1, rCDA2, rCDA3 = barycentric_coordinates(y, C, D, A)\n",
    "    if 0 <= rCDA1 <= 1 and 0 <= rCDA2 <= 1 and 0 <= rCDA3 <= 1:\n",
    "        return rCDA1 * f(C) + rCDA2 * f(D) + rCDA3 * f(A)\n",
    "    \n",
    "    return float('nan')\n",
    "\n",
    "# Find points and interpolate\n",
    "A, B, C, D = find_points(X, y)\n",
    "interpolated_value = interpolate(y, A, B, C, D)\n",
    "true_value = f(y)\n",
    "\n",
    "# Print the results\n",
    "print(f\"Interpolated value: {interpolated_value:.4f}\")\n",
    "print(f\"True value: {true_value:.4f}\")\n"
   ]
  },
  {
   "cell_type": "markdown",
   "metadata": {},
   "source": [
    "Overall, the approximation for the function value $f(y)$ is close to the true value of $f(y)$, with only a small difference $(0.084)$ vs. $(0.079)$, indicating a reasonable approximation."
   ]
  },
  {
   "cell_type": "markdown",
   "metadata": {},
   "source": [
    "**Question 4:** Repeat question 3 for all points in the set $Y$."
   ]
  },
  {
   "cell_type": "code",
   "execution_count": null,
   "metadata": {},
   "outputs": [],
   "source": [
    "Y = [(0.2,0.2),(0.8,0.2),(0.8,0.8),(0.8,0.2),(0.5,0.5)]"
   ]
  },
  {
   "cell_type": "code",
   "execution_count": 17,
   "metadata": {},
   "outputs": [
    {
     "name": "stdout",
     "output_type": "stream",
     "text": [
      "Point: (0.2, 0.2)\n",
      "Interpolated value: 0.0403\n",
      "True value: 0.0400\n",
      "Difference: -0.0003\n",
      "-----------\n",
      "Point: (0.8, 0.2)\n",
      "Interpolated value: 0.1587\n",
      "True value: 0.1600\n",
      "Difference: 0.0013\n",
      "-----------\n",
      "Point: (0.8, 0.8)\n",
      "Interpolated value: nan\n",
      "True value: 0.6400\n",
      "Difference: nan\n",
      "-----------\n",
      "Point: (0.5, 0.5)\n",
      "Interpolated value: 0.2513\n",
      "True value: 0.2500\n",
      "Difference: -0.0013\n",
      "-----------\n"
     ]
    }
   ],
   "source": [
    "import numpy as np\n",
    "\n",
    "# Sample data generation\n",
    "rng = np.random.default_rng(2024)\n",
    "X = rng.uniform(size=(50, 2))\n",
    "\n",
    "# Function definition\n",
    "f = lambda x: x[0] * x[1]\n",
    "F = np.array([f(x) for x in X])\n",
    "\n",
    "# Define points A, B, C, D based on proximity to y\n",
    "def find_points(X, y):\n",
    "    A = min(X, key=lambda x: np.linalg.norm(x - y) if x[0] > y[0] and x[1] > y[1] else float('inf'))\n",
    "    B = min(X, key=lambda x: np.linalg.norm(x - y) if x[0] > y[0] and x[1] < y[1] else float('inf'))\n",
    "    C = min(X, key=lambda x: np.linalg.norm(x - y) if x[0] < y[0] and x[1] < y[1] else float('inf'))\n",
    "    D = min(X, key=lambda x: np.linalg.norm(x - y) if x[0] < y[0] and x[1] > y[1] else float('inf'))\n",
    "    return A, B, C, D\n",
    "\n",
    "# Compute barycentric coordinates\n",
    "def barycentric_coordinates(y, A, B, C):\n",
    "    denominator = (B[1] - C[1]) * (A[0] - C[0]) + (C[0] - B[0]) * (A[1] - C[1])\n",
    "    r1 = ((B[1] - C[1]) * (y[0] - C[0]) + (C[0] - B[0]) * (y[1] - C[1])) / denominator\n",
    "    r2 = ((C[1] - A[1]) * (y[0] - C[0]) + (A[0] - C[0]) * (y[1] - C[1])) / denominator\n",
    "    r3 = 1 - r1 - r2\n",
    "    return r1, r2, r3\n",
    "\n",
    "# Determine which triangle y is in and interpolate\n",
    "def interpolate(y, A, B, C, D):\n",
    "    rABC1, rABC2, rABC3 = barycentric_coordinates(y, A, B, C)\n",
    "    if 0 <= rABC1 <= 1 and 0 <= rABC2 <= 1 and 0 <= rABC3 <= 1:\n",
    "        return rABC1 * f(A) + rABC2 * f(B) + rABC3 * f(C)\n",
    "    \n",
    "    rCDA1, rCDA2, rCDA3 = barycentric_coordinates(y, C, D, A)\n",
    "    if 0 <= rCDA1 <= 1 and 0 <= rCDA2 <= 1 and 0 <= rCDA3 <= 1:\n",
    "        return rCDA1 * f(C) + rCDA2 * f(D) + rCDA3 * f(A)\n",
    "    \n",
    "    return float('nan')\n",
    "\n",
    "# Points in set Y\n",
    "Y = [(0.2, 0.2), (0.8, 0.2), (0.8, 0.8), (0.5, 0.5)]\n",
    "\n",
    "# Interpolate and compare for each point in Y\n",
    "for point in Y:\n",
    "    y = np.array(point)\n",
    "    A, B, C, D = find_points(X, y)\n",
    "    interpolated_value = interpolate(y, A, B, C, D)\n",
    "    true_value = f(y)\n",
    "    print(f\"Point: {point}\")\n",
    "    print(f\"Interpolated value: {interpolated_value:.4f}\")\n",
    "    print(f\"True value: {true_value:.4f}\")\n",
    "    print(f\"Difference: {true_value - interpolated_value:.4f}\")\n",
    "    print(\"-----------\")\n"
   ]
  }
 ],
 "metadata": {
  "kernelspec": {
   "display_name": "base",
   "language": "python",
   "name": "python3"
  },
  "language_info": {
   "codemirror_mode": {
    "name": "ipython",
    "version": 3
   },
   "file_extension": ".py",
   "mimetype": "text/x-python",
   "name": "python",
   "nbconvert_exporter": "python",
   "pygments_lexer": "ipython3",
   "version": "3.11.5"
  }
 },
 "nbformat": 4,
 "nbformat_minor": 2
}
